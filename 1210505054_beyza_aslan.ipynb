{
  "nbformat": 4,
  "nbformat_minor": 0,
  "metadata": {
    "colab": {
      "provenance": []
    },
    "kernelspec": {
      "name": "python3",
      "display_name": "Python 3"
    },
    "language_info": {
      "name": "python"
    }
  },
  "cells": [
    {
      "cell_type": "code",
      "execution_count": 65,
      "metadata": {
        "id": "MICgMbewmChw"
      },
      "outputs": [],
      "source": [
        "import pandas as pd\n",
        "import numpy as np\n",
        "import matplotlib.pyplot as plt\n",
        "import seaborn as sns\n",
        "from sklearn.preprocessing import LabelEncoder\n",
        "from scipy import stats\n",
        "from sklearn.ensemble import IsolationForest\n"
      ]
    },
    {
      "cell_type": "markdown",
      "source": [],
      "metadata": {
        "id": "mMhh3p5HwDWl"
      }
    },
    {
      "cell_type": "code",
      "source": [
        "#veritabanini oku\n",
        "path = \"/content/drive/MyDrive/Dataset/mushrooms.csv\"\n",
        "df =pd.read_csv(path)\n",
        "df .head(5)"
      ],
      "metadata": {
        "colab": {
          "base_uri": "https://localhost:8080/",
          "height": 308
        },
        "id": "jz-GcGjgnKSU",
        "outputId": "d0fa1eca-121c-40cb-a1f2-457bb96bea64"
      },
      "execution_count": null,
      "outputs": [
        {
          "output_type": "execute_result",
          "data": {
            "text/plain": [
              "  class cap-shape cap-surface cap-color bruises odor gill-attachment  \\\n",
              "0     p         x           s         n       t    p               f   \n",
              "1     e         x           s         y       t    a               f   \n",
              "2     e         b           s         w       t    l               f   \n",
              "3     p         x           y         w       t    p               f   \n",
              "4     e         x           s         g       f    n               f   \n",
              "\n",
              "  gill-spacing gill-size gill-color  ... stalk-surface-below-ring  \\\n",
              "0            c         n          k  ...                        s   \n",
              "1            c         b          k  ...                        s   \n",
              "2            c         b          n  ...                        s   \n",
              "3            c         n          n  ...                        s   \n",
              "4            w         b          k  ...                        s   \n",
              "\n",
              "  stalk-color-above-ring stalk-color-below-ring veil-type veil-color  \\\n",
              "0                      w                      w         p          w   \n",
              "1                      w                      w         p          w   \n",
              "2                      w                      w         p          w   \n",
              "3                      w                      w         p          w   \n",
              "4                      w                      w         p          w   \n",
              "\n",
              "  ring-number ring-type spore-print-color population habitat  \n",
              "0           o         p                 k          s       u  \n",
              "1           o         p                 n          n       g  \n",
              "2           o         p                 n          n       m  \n",
              "3           o         p                 k          s       u  \n",
              "4           o         e                 n          a       g  \n",
              "\n",
              "[5 rows x 23 columns]"
            ],
            "text/html": [
              "\n",
              "  <div id=\"df-c3608962-f37f-4f53-a76e-7093db8f2df2\" class=\"colab-df-container\">\n",
              "    <div>\n",
              "<style scoped>\n",
              "    .dataframe tbody tr th:only-of-type {\n",
              "        vertical-align: middle;\n",
              "    }\n",
              "\n",
              "    .dataframe tbody tr th {\n",
              "        vertical-align: top;\n",
              "    }\n",
              "\n",
              "    .dataframe thead th {\n",
              "        text-align: right;\n",
              "    }\n",
              "</style>\n",
              "<table border=\"1\" class=\"dataframe\">\n",
              "  <thead>\n",
              "    <tr style=\"text-align: right;\">\n",
              "      <th></th>\n",
              "      <th>class</th>\n",
              "      <th>cap-shape</th>\n",
              "      <th>cap-surface</th>\n",
              "      <th>cap-color</th>\n",
              "      <th>bruises</th>\n",
              "      <th>odor</th>\n",
              "      <th>gill-attachment</th>\n",
              "      <th>gill-spacing</th>\n",
              "      <th>gill-size</th>\n",
              "      <th>gill-color</th>\n",
              "      <th>...</th>\n",
              "      <th>stalk-surface-below-ring</th>\n",
              "      <th>stalk-color-above-ring</th>\n",
              "      <th>stalk-color-below-ring</th>\n",
              "      <th>veil-type</th>\n",
              "      <th>veil-color</th>\n",
              "      <th>ring-number</th>\n",
              "      <th>ring-type</th>\n",
              "      <th>spore-print-color</th>\n",
              "      <th>population</th>\n",
              "      <th>habitat</th>\n",
              "    </tr>\n",
              "  </thead>\n",
              "  <tbody>\n",
              "    <tr>\n",
              "      <th>0</th>\n",
              "      <td>p</td>\n",
              "      <td>x</td>\n",
              "      <td>s</td>\n",
              "      <td>n</td>\n",
              "      <td>t</td>\n",
              "      <td>p</td>\n",
              "      <td>f</td>\n",
              "      <td>c</td>\n",
              "      <td>n</td>\n",
              "      <td>k</td>\n",
              "      <td>...</td>\n",
              "      <td>s</td>\n",
              "      <td>w</td>\n",
              "      <td>w</td>\n",
              "      <td>p</td>\n",
              "      <td>w</td>\n",
              "      <td>o</td>\n",
              "      <td>p</td>\n",
              "      <td>k</td>\n",
              "      <td>s</td>\n",
              "      <td>u</td>\n",
              "    </tr>\n",
              "    <tr>\n",
              "      <th>1</th>\n",
              "      <td>e</td>\n",
              "      <td>x</td>\n",
              "      <td>s</td>\n",
              "      <td>y</td>\n",
              "      <td>t</td>\n",
              "      <td>a</td>\n",
              "      <td>f</td>\n",
              "      <td>c</td>\n",
              "      <td>b</td>\n",
              "      <td>k</td>\n",
              "      <td>...</td>\n",
              "      <td>s</td>\n",
              "      <td>w</td>\n",
              "      <td>w</td>\n",
              "      <td>p</td>\n",
              "      <td>w</td>\n",
              "      <td>o</td>\n",
              "      <td>p</td>\n",
              "      <td>n</td>\n",
              "      <td>n</td>\n",
              "      <td>g</td>\n",
              "    </tr>\n",
              "    <tr>\n",
              "      <th>2</th>\n",
              "      <td>e</td>\n",
              "      <td>b</td>\n",
              "      <td>s</td>\n",
              "      <td>w</td>\n",
              "      <td>t</td>\n",
              "      <td>l</td>\n",
              "      <td>f</td>\n",
              "      <td>c</td>\n",
              "      <td>b</td>\n",
              "      <td>n</td>\n",
              "      <td>...</td>\n",
              "      <td>s</td>\n",
              "      <td>w</td>\n",
              "      <td>w</td>\n",
              "      <td>p</td>\n",
              "      <td>w</td>\n",
              "      <td>o</td>\n",
              "      <td>p</td>\n",
              "      <td>n</td>\n",
              "      <td>n</td>\n",
              "      <td>m</td>\n",
              "    </tr>\n",
              "    <tr>\n",
              "      <th>3</th>\n",
              "      <td>p</td>\n",
              "      <td>x</td>\n",
              "      <td>y</td>\n",
              "      <td>w</td>\n",
              "      <td>t</td>\n",
              "      <td>p</td>\n",
              "      <td>f</td>\n",
              "      <td>c</td>\n",
              "      <td>n</td>\n",
              "      <td>n</td>\n",
              "      <td>...</td>\n",
              "      <td>s</td>\n",
              "      <td>w</td>\n",
              "      <td>w</td>\n",
              "      <td>p</td>\n",
              "      <td>w</td>\n",
              "      <td>o</td>\n",
              "      <td>p</td>\n",
              "      <td>k</td>\n",
              "      <td>s</td>\n",
              "      <td>u</td>\n",
              "    </tr>\n",
              "    <tr>\n",
              "      <th>4</th>\n",
              "      <td>e</td>\n",
              "      <td>x</td>\n",
              "      <td>s</td>\n",
              "      <td>g</td>\n",
              "      <td>f</td>\n",
              "      <td>n</td>\n",
              "      <td>f</td>\n",
              "      <td>w</td>\n",
              "      <td>b</td>\n",
              "      <td>k</td>\n",
              "      <td>...</td>\n",
              "      <td>s</td>\n",
              "      <td>w</td>\n",
              "      <td>w</td>\n",
              "      <td>p</td>\n",
              "      <td>w</td>\n",
              "      <td>o</td>\n",
              "      <td>e</td>\n",
              "      <td>n</td>\n",
              "      <td>a</td>\n",
              "      <td>g</td>\n",
              "    </tr>\n",
              "  </tbody>\n",
              "</table>\n",
              "<p>5 rows × 23 columns</p>\n",
              "</div>\n",
              "    <div class=\"colab-df-buttons\">\n",
              "\n",
              "  <div class=\"colab-df-container\">\n",
              "    <button class=\"colab-df-convert\" onclick=\"convertToInteractive('df-c3608962-f37f-4f53-a76e-7093db8f2df2')\"\n",
              "            title=\"Convert this dataframe to an interactive table.\"\n",
              "            style=\"display:none;\">\n",
              "\n",
              "  <svg xmlns=\"http://www.w3.org/2000/svg\" height=\"24px\" viewBox=\"0 -960 960 960\">\n",
              "    <path d=\"M120-120v-720h720v720H120Zm60-500h600v-160H180v160Zm220 220h160v-160H400v160Zm0 220h160v-160H400v160ZM180-400h160v-160H180v160Zm440 0h160v-160H620v160ZM180-180h160v-160H180v160Zm440 0h160v-160H620v160Z\"/>\n",
              "  </svg>\n",
              "    </button>\n",
              "\n",
              "  <style>\n",
              "    .colab-df-container {\n",
              "      display:flex;\n",
              "      gap: 12px;\n",
              "    }\n",
              "\n",
              "    .colab-df-convert {\n",
              "      background-color: #E8F0FE;\n",
              "      border: none;\n",
              "      border-radius: 50%;\n",
              "      cursor: pointer;\n",
              "      display: none;\n",
              "      fill: #1967D2;\n",
              "      height: 32px;\n",
              "      padding: 0 0 0 0;\n",
              "      width: 32px;\n",
              "    }\n",
              "\n",
              "    .colab-df-convert:hover {\n",
              "      background-color: #E2EBFA;\n",
              "      box-shadow: 0px 1px 2px rgba(60, 64, 67, 0.3), 0px 1px 3px 1px rgba(60, 64, 67, 0.15);\n",
              "      fill: #174EA6;\n",
              "    }\n",
              "\n",
              "    .colab-df-buttons div {\n",
              "      margin-bottom: 4px;\n",
              "    }\n",
              "\n",
              "    [theme=dark] .colab-df-convert {\n",
              "      background-color: #3B4455;\n",
              "      fill: #D2E3FC;\n",
              "    }\n",
              "\n",
              "    [theme=dark] .colab-df-convert:hover {\n",
              "      background-color: #434B5C;\n",
              "      box-shadow: 0px 1px 3px 1px rgba(0, 0, 0, 0.15);\n",
              "      filter: drop-shadow(0px 1px 2px rgba(0, 0, 0, 0.3));\n",
              "      fill: #FFFFFF;\n",
              "    }\n",
              "  </style>\n",
              "\n",
              "    <script>\n",
              "      const buttonEl =\n",
              "        document.querySelector('#df-c3608962-f37f-4f53-a76e-7093db8f2df2 button.colab-df-convert');\n",
              "      buttonEl.style.display =\n",
              "        google.colab.kernel.accessAllowed ? 'block' : 'none';\n",
              "\n",
              "      async function convertToInteractive(key) {\n",
              "        const element = document.querySelector('#df-c3608962-f37f-4f53-a76e-7093db8f2df2');\n",
              "        const dataTable =\n",
              "          await google.colab.kernel.invokeFunction('convertToInteractive',\n",
              "                                                    [key], {});\n",
              "        if (!dataTable) return;\n",
              "\n",
              "        const docLinkHtml = 'Like what you see? Visit the ' +\n",
              "          '<a target=\"_blank\" href=https://colab.research.google.com/notebooks/data_table.ipynb>data table notebook</a>'\n",
              "          + ' to learn more about interactive tables.';\n",
              "        element.innerHTML = '';\n",
              "        dataTable['output_type'] = 'display_data';\n",
              "        await google.colab.output.renderOutput(dataTable, element);\n",
              "        const docLink = document.createElement('div');\n",
              "        docLink.innerHTML = docLinkHtml;\n",
              "        element.appendChild(docLink);\n",
              "      }\n",
              "    </script>\n",
              "  </div>\n",
              "\n",
              "\n",
              "<div id=\"df-f54ecb8b-d44b-4fd7-9407-39cea6b2f52e\">\n",
              "  <button class=\"colab-df-quickchart\" onclick=\"quickchart('df-f54ecb8b-d44b-4fd7-9407-39cea6b2f52e')\"\n",
              "            title=\"Suggest charts\"\n",
              "            style=\"display:none;\">\n",
              "\n",
              "<svg xmlns=\"http://www.w3.org/2000/svg\" height=\"24px\"viewBox=\"0 0 24 24\"\n",
              "     width=\"24px\">\n",
              "    <g>\n",
              "        <path d=\"M19 3H5c-1.1 0-2 .9-2 2v14c0 1.1.9 2 2 2h14c1.1 0 2-.9 2-2V5c0-1.1-.9-2-2-2zM9 17H7v-7h2v7zm4 0h-2V7h2v10zm4 0h-2v-4h2v4z\"/>\n",
              "    </g>\n",
              "</svg>\n",
              "  </button>\n",
              "\n",
              "<style>\n",
              "  .colab-df-quickchart {\n",
              "      --bg-color: #E8F0FE;\n",
              "      --fill-color: #1967D2;\n",
              "      --hover-bg-color: #E2EBFA;\n",
              "      --hover-fill-color: #174EA6;\n",
              "      --disabled-fill-color: #AAA;\n",
              "      --disabled-bg-color: #DDD;\n",
              "  }\n",
              "\n",
              "  [theme=dark] .colab-df-quickchart {\n",
              "      --bg-color: #3B4455;\n",
              "      --fill-color: #D2E3FC;\n",
              "      --hover-bg-color: #434B5C;\n",
              "      --hover-fill-color: #FFFFFF;\n",
              "      --disabled-bg-color: #3B4455;\n",
              "      --disabled-fill-color: #666;\n",
              "  }\n",
              "\n",
              "  .colab-df-quickchart {\n",
              "    background-color: var(--bg-color);\n",
              "    border: none;\n",
              "    border-radius: 50%;\n",
              "    cursor: pointer;\n",
              "    display: none;\n",
              "    fill: var(--fill-color);\n",
              "    height: 32px;\n",
              "    padding: 0;\n",
              "    width: 32px;\n",
              "  }\n",
              "\n",
              "  .colab-df-quickchart:hover {\n",
              "    background-color: var(--hover-bg-color);\n",
              "    box-shadow: 0 1px 2px rgba(60, 64, 67, 0.3), 0 1px 3px 1px rgba(60, 64, 67, 0.15);\n",
              "    fill: var(--button-hover-fill-color);\n",
              "  }\n",
              "\n",
              "  .colab-df-quickchart-complete:disabled,\n",
              "  .colab-df-quickchart-complete:disabled:hover {\n",
              "    background-color: var(--disabled-bg-color);\n",
              "    fill: var(--disabled-fill-color);\n",
              "    box-shadow: none;\n",
              "  }\n",
              "\n",
              "  .colab-df-spinner {\n",
              "    border: 2px solid var(--fill-color);\n",
              "    border-color: transparent;\n",
              "    border-bottom-color: var(--fill-color);\n",
              "    animation:\n",
              "      spin 1s steps(1) infinite;\n",
              "  }\n",
              "\n",
              "  @keyframes spin {\n",
              "    0% {\n",
              "      border-color: transparent;\n",
              "      border-bottom-color: var(--fill-color);\n",
              "      border-left-color: var(--fill-color);\n",
              "    }\n",
              "    20% {\n",
              "      border-color: transparent;\n",
              "      border-left-color: var(--fill-color);\n",
              "      border-top-color: var(--fill-color);\n",
              "    }\n",
              "    30% {\n",
              "      border-color: transparent;\n",
              "      border-left-color: var(--fill-color);\n",
              "      border-top-color: var(--fill-color);\n",
              "      border-right-color: var(--fill-color);\n",
              "    }\n",
              "    40% {\n",
              "      border-color: transparent;\n",
              "      border-right-color: var(--fill-color);\n",
              "      border-top-color: var(--fill-color);\n",
              "    }\n",
              "    60% {\n",
              "      border-color: transparent;\n",
              "      border-right-color: var(--fill-color);\n",
              "    }\n",
              "    80% {\n",
              "      border-color: transparent;\n",
              "      border-right-color: var(--fill-color);\n",
              "      border-bottom-color: var(--fill-color);\n",
              "    }\n",
              "    90% {\n",
              "      border-color: transparent;\n",
              "      border-bottom-color: var(--fill-color);\n",
              "    }\n",
              "  }\n",
              "</style>\n",
              "\n",
              "  <script>\n",
              "    async function quickchart(key) {\n",
              "      const quickchartButtonEl =\n",
              "        document.querySelector('#' + key + ' button');\n",
              "      quickchartButtonEl.disabled = true;  // To prevent multiple clicks.\n",
              "      quickchartButtonEl.classList.add('colab-df-spinner');\n",
              "      try {\n",
              "        const charts = await google.colab.kernel.invokeFunction(\n",
              "            'suggestCharts', [key], {});\n",
              "      } catch (error) {\n",
              "        console.error('Error during call to suggestCharts:', error);\n",
              "      }\n",
              "      quickchartButtonEl.classList.remove('colab-df-spinner');\n",
              "      quickchartButtonEl.classList.add('colab-df-quickchart-complete');\n",
              "    }\n",
              "    (() => {\n",
              "      let quickchartButtonEl =\n",
              "        document.querySelector('#df-f54ecb8b-d44b-4fd7-9407-39cea6b2f52e button');\n",
              "      quickchartButtonEl.style.display =\n",
              "        google.colab.kernel.accessAllowed ? 'block' : 'none';\n",
              "    })();\n",
              "  </script>\n",
              "</div>\n",
              "\n",
              "    </div>\n",
              "  </div>\n"
            ],
            "application/vnd.google.colaboratory.intrinsic+json": {
              "type": "dataframe"
            }
          },
          "metadata": {},
          "execution_count": 15
        }
      ]
    },
    {
      "cell_type": "code",
      "source": [
        "# Ya da daha düzenli görmek için:\n",
        "print(\"\\nMevcut kolonlar listesi:\")\n",
        "for col in df.columns:\n",
        "    print(col)"
      ],
      "metadata": {
        "colab": {
          "base_uri": "https://localhost:8080/"
        },
        "id": "kWU4AnEKw4wT",
        "outputId": "ebda76fb-7462-406d-d184-5370609919e8"
      },
      "execution_count": null,
      "outputs": [
        {
          "output_type": "stream",
          "name": "stdout",
          "text": [
            "\n",
            "Mevcut kolonlar listesi:\n",
            "class\n",
            "cap-shape\n",
            "cap-surface\n",
            "cap-color\n",
            "bruises\n",
            "odor\n",
            "gill-attachment\n",
            "gill-spacing\n",
            "gill-size\n",
            "gill-color\n",
            "stalk-shape\n",
            "stalk-root\n",
            "stalk-surface-above-ring\n",
            "stalk-surface-below-ring\n",
            "stalk-color-above-ring\n",
            "stalk-color-below-ring\n",
            "veil-type\n",
            "veil-color\n",
            "ring-number\n",
            "ring-type\n",
            "spore-print-color\n",
            "population\n",
            "habitat\n"
          ]
        }
      ]
    },
    {
      "cell_type": "code",
      "source": [
        "# Doğru kolon isimleriyle categorical_columns listesini güncelle\n",
        "categorical_columns = [\n",
        "    'class', 'cap-shape', 'cap-surface', 'cap-color', 'bruises', 'odor',\n",
        "    'gill-attachment', 'gill-spacing', 'gill-size', 'gill-color',\n",
        "    'stalk-shape', 'stalk-root', 'stalk-surface-above-ring',\n",
        "    'stalk-surface-below-ring', 'stalk-color-above-ring',\n",
        "    'stalk-color-below-ring', 'veil-type', 'veil-color',\n",
        "    'ring-number', 'ring-type', 'spore-print-color',\n",
        "    'population', 'habitat'\n",
        "]\n",
        "# Dönüşümü uygula\n",
        "#Evet, LabelEncoder().fit_transform işlemi kategorik (yazı/metin) verileri sayısal değerlere dönüştürdü. Her benzersiz kategorik değer için 0'dan başlayarak sıralı sayılar atandı.\n",
        "df[categorical_columns] = df[categorical_columns].apply(LabelEncoder().fit_transform)\n",
        "\n",
        "# Sonucu kontrol et\n",
        "print(df.head())\n"
      ],
      "metadata": {
        "colab": {
          "base_uri": "https://localhost:8080/"
        },
        "id": "DMmzzFOaw45f",
        "outputId": "5a510947-7ed8-4420-c8ad-48385bd709ce"
      },
      "execution_count": null,
      "outputs": [
        {
          "output_type": "stream",
          "name": "stdout",
          "text": [
            "   class  cap-shape  cap-surface  cap-color  bruises  odor  gill-attachment  \\\n",
            "0      1          5            2          4        1     6                1   \n",
            "1      0          5            2          9        1     0                1   \n",
            "2      0          0            2          8        1     3                1   \n",
            "3      1          5            3          8        1     6                1   \n",
            "4      0          5            2          3        0     5                1   \n",
            "\n",
            "   gill-spacing  gill-size  gill-color  ...  stalk-surface-below-ring  \\\n",
            "0             0          1           4  ...                         2   \n",
            "1             0          0           4  ...                         2   \n",
            "2             0          0           5  ...                         2   \n",
            "3             0          1           5  ...                         2   \n",
            "4             1          0           4  ...                         2   \n",
            "\n",
            "   stalk-color-above-ring  stalk-color-below-ring  veil-type  veil-color  \\\n",
            "0                       7                       7          0           2   \n",
            "1                       7                       7          0           2   \n",
            "2                       7                       7          0           2   \n",
            "3                       7                       7          0           2   \n",
            "4                       7                       7          0           2   \n",
            "\n",
            "   ring-number  ring-type  spore-print-color  population  habitat  \n",
            "0            1          4                  2           3        5  \n",
            "1            1          4                  3           2        1  \n",
            "2            1          4                  3           2        3  \n",
            "3            1          4                  2           3        5  \n",
            "4            1          0                  3           0        1  \n",
            "\n",
            "[5 rows x 23 columns]\n"
          ]
        }
      ]
    },
    {
      "cell_type": "code",
      "source": [
        "# Veritabanı hakkında bilgiler\n",
        "print(\"Veri Tabanı İnceleme:\")\n",
        "print(df.info())"
      ],
      "metadata": {
        "colab": {
          "base_uri": "https://localhost:8080/"
        },
        "id": "9EJkw0ItxTSY",
        "outputId": "1c05f905-d694-41af-c3c3-0e5bb3fe95b8"
      },
      "execution_count": null,
      "outputs": [
        {
          "output_type": "stream",
          "name": "stdout",
          "text": [
            "Veri Tabanı İnceleme:\n",
            "<class 'pandas.core.frame.DataFrame'>\n",
            "RangeIndex: 8124 entries, 0 to 8123\n",
            "Data columns (total 23 columns):\n",
            " #   Column                    Non-Null Count  Dtype \n",
            "---  ------                    --------------  ----- \n",
            " 0   class                     8124 non-null   object\n",
            " 1   cap-shape                 8124 non-null   int64 \n",
            " 2   cap-surface               8124 non-null   int64 \n",
            " 3   cap-color                 8124 non-null   int64 \n",
            " 4   bruises                   8124 non-null   int64 \n",
            " 5   odor                      8124 non-null   int64 \n",
            " 6   gill-attachment           8124 non-null   int64 \n",
            " 7   gill-spacing              8124 non-null   int64 \n",
            " 8   gill-size                 8124 non-null   int64 \n",
            " 9   gill-color                8124 non-null   int64 \n",
            " 10  stalk-shape               8124 non-null   int64 \n",
            " 11  stalk-root                8124 non-null   int64 \n",
            " 12  stalk-surface-above-ring  8124 non-null   int64 \n",
            " 13  stalk-surface-below-ring  8124 non-null   int64 \n",
            " 14  stalk-color-above-ring    8124 non-null   int64 \n",
            " 15  stalk-color-below-ring    8124 non-null   int64 \n",
            " 16  veil-type                 8124 non-null   int64 \n",
            " 17  veil-color                8124 non-null   int64 \n",
            " 18  ring-number               8124 non-null   int64 \n",
            " 19  ring-type                 8124 non-null   int64 \n",
            " 20  spore-print-color         8124 non-null   int64 \n",
            " 21  population                8124 non-null   int64 \n",
            " 22  habitat                   8124 non-null   int64 \n",
            "dtypes: int64(22), object(1)\n",
            "memory usage: 1.4+ MB\n",
            "None\n"
          ]
        }
      ]
    },
    {
      "cell_type": "code",
      "source": [
        "# Kaç adet veri olduğunu bulma\n",
        "print(\"\\nToplam Veri Sayısı:\", len(df))"
      ],
      "metadata": {
        "colab": {
          "base_uri": "https://localhost:8080/"
        },
        "id": "nnKrxZzJy73S",
        "outputId": "6362b63f-08e6-418c-bdf5-ed4291ff3d67"
      },
      "execution_count": null,
      "outputs": [
        {
          "output_type": "stream",
          "name": "stdout",
          "text": [
            "\n",
            "Toplam Veri Sayısı: 8124\n"
          ]
        }
      ]
    },
    {
      "cell_type": "code",
      "source": [
        "# Eksik verileri kontrol etme\n",
        "print(\"\\nEksik Veri Kontrolü:\")\n",
        "print(df.isnull().sum())"
      ],
      "metadata": {
        "colab": {
          "base_uri": "https://localhost:8080/"
        },
        "id": "LB90W0wGzDz3",
        "outputId": "1635dba3-dee6-4dcf-e9af-8f918c02a417"
      },
      "execution_count": null,
      "outputs": [
        {
          "output_type": "stream",
          "name": "stdout",
          "text": [
            "\n",
            "Eksik Veri Kontrolü:\n",
            "class                       0\n",
            "cap-shape                   0\n",
            "cap-surface                 0\n",
            "cap-color                   0\n",
            "bruises                     0\n",
            "odor                        0\n",
            "gill-attachment             0\n",
            "gill-spacing                0\n",
            "gill-size                   0\n",
            "gill-color                  0\n",
            "stalk-shape                 0\n",
            "stalk-root                  0\n",
            "stalk-surface-above-ring    0\n",
            "stalk-surface-below-ring    0\n",
            "stalk-color-above-ring      0\n",
            "stalk-color-below-ring      0\n",
            "veil-type                   0\n",
            "veil-color                  0\n",
            "ring-number                 0\n",
            "ring-type                   0\n",
            "spore-print-color           0\n",
            "population                  0\n",
            "habitat                     0\n",
            "dtype: int64\n"
          ]
        }
      ]
    },
    {
      "cell_type": "code",
      "source": [
        "#Ortalama\n",
        "ortalama = df.mean()\n",
        "print(ortalama)"
      ],
      "metadata": {
        "colab": {
          "base_uri": "https://localhost:8080/"
        },
        "id": "l3i1ohhVzIEu",
        "outputId": "e429d89b-0be2-45cf-f943-ebb1535b3e6c"
      },
      "execution_count": null,
      "outputs": [
        {
          "output_type": "stream",
          "name": "stdout",
          "text": [
            "class                       0.482029\n",
            "cap-shape                   3.348104\n",
            "cap-surface                 1.827671\n",
            "cap-color                   4.504677\n",
            "bruises                     0.415559\n",
            "odor                        4.144756\n",
            "gill-attachment             0.974151\n",
            "gill-spacing                0.161497\n",
            "gill-size                   0.309207\n",
            "gill-color                  4.810684\n",
            "stalk-shape                 0.567208\n",
            "stalk-root                  1.109798\n",
            "stalk-surface-above-ring    1.575086\n",
            "stalk-surface-below-ring    1.603644\n",
            "stalk-color-above-ring      5.816347\n",
            "stalk-color-below-ring      5.794682\n",
            "veil-type                   0.000000\n",
            "veil-color                  1.965534\n",
            "ring-number                 1.069424\n",
            "ring-type                   2.291974\n",
            "spore-print-color           3.596750\n",
            "population                  3.644018\n",
            "habitat                     1.508616\n",
            "dtype: float64\n"
          ]
        }
      ]
    },
    {
      "cell_type": "code",
      "source": [
        "# Medyan (Median)\n",
        "medyan = df.median()\n",
        "print(medyan)\n"
      ],
      "metadata": {
        "colab": {
          "base_uri": "https://localhost:8080/"
        },
        "id": "-2JdhW0l1HrZ",
        "outputId": "540e9032-96cb-4d4a-f203-b3f88570e91b"
      },
      "execution_count": null,
      "outputs": [
        {
          "output_type": "stream",
          "name": "stdout",
          "text": [
            "class                       0.0\n",
            "cap-shape                   3.0\n",
            "cap-surface                 2.0\n",
            "cap-color                   4.0\n",
            "bruises                     0.0\n",
            "odor                        5.0\n",
            "gill-attachment             1.0\n",
            "gill-spacing                0.0\n",
            "gill-size                   0.0\n",
            "gill-color                  5.0\n",
            "stalk-shape                 1.0\n",
            "stalk-root                  1.0\n",
            "stalk-surface-above-ring    2.0\n",
            "stalk-surface-below-ring    2.0\n",
            "stalk-color-above-ring      7.0\n",
            "stalk-color-below-ring      7.0\n",
            "veil-type                   0.0\n",
            "veil-color                  2.0\n",
            "ring-number                 1.0\n",
            "ring-type                   2.0\n",
            "spore-print-color           3.0\n",
            "population                  4.0\n",
            "habitat                     1.0\n",
            "dtype: float64\n"
          ]
        }
      ]
    },
    {
      "cell_type": "code",
      "source": [
        "#Varyans (Variance)\n",
        "varyans = df.var()\n",
        "print(varyans)"
      ],
      "metadata": {
        "colab": {
          "base_uri": "https://localhost:8080/"
        },
        "id": "z2J34-B51OM6",
        "outputId": "741423da-0f88-4ddc-c36c-8cbc9c07bb13"
      },
      "execution_count": null,
      "outputs": [
        {
          "output_type": "stream",
          "name": "stdout",
          "text": [
            "class                        0.249708\n",
            "cap-shape                    2.573872\n",
            "cap-surface                  1.512586\n",
            "cap-color                    6.481204\n",
            "bruises                      0.242900\n",
            "odor                         4.425676\n",
            "gill-attachment              0.025184\n",
            "gill-spacing                 0.135432\n",
            "gill-size                    0.213624\n",
            "gill-color                  12.534142\n",
            "stalk-shape                  0.245513\n",
            "stalk-root                   1.125946\n",
            "stalk-surface-above-ring     0.386212\n",
            "stalk-surface-below-ring     0.456941\n",
            "stalk-color-above-ring       3.616643\n",
            "stalk-color-below-ring       3.637761\n",
            "veil-type                    0.000000\n",
            "veil-color                   0.058888\n",
            "ring-number                  0.073476\n",
            "ring-type                    3.246022\n",
            "spore-print-color            5.677084\n",
            "population                   1.567709\n",
            "habitat                      2.958316\n",
            "dtype: float64\n"
          ]
        }
      ]
    },
    {
      "cell_type": "code",
      "source": [
        "# Standart Sapma (Standard Deviation)\n",
        "std_sapma = df.std()\n",
        "print(std_sapma)"
      ],
      "metadata": {
        "colab": {
          "base_uri": "https://localhost:8080/"
        },
        "id": "TXCnJsLL1UaF",
        "outputId": "f5e3a889-9daf-4285-aa45-97ca9bcb19da"
      },
      "execution_count": null,
      "outputs": [
        {
          "output_type": "stream",
          "name": "stdout",
          "text": [
            "class                       0.499708\n",
            "cap-shape                   1.604329\n",
            "cap-surface                 1.229873\n",
            "cap-color                   2.545821\n",
            "bruises                     0.492848\n",
            "odor                        2.103729\n",
            "gill-attachment             0.158695\n",
            "gill-spacing                0.368011\n",
            "gill-size                   0.462195\n",
            "gill-color                  3.540359\n",
            "stalk-shape                 0.495493\n",
            "stalk-root                  1.061106\n",
            "stalk-surface-above-ring    0.621459\n",
            "stalk-surface-below-ring    0.675974\n",
            "stalk-color-above-ring      1.901747\n",
            "stalk-color-below-ring      1.907291\n",
            "veil-type                   0.000000\n",
            "veil-color                  0.242669\n",
            "ring-number                 0.271064\n",
            "ring-type                   1.801672\n",
            "spore-print-color           2.382663\n",
            "population                  1.252082\n",
            "habitat                     1.719975\n",
            "dtype: float64\n"
          ]
        }
      ]
    },
    {
      "cell_type": "code",
      "source": [
        "# Minimum ve Makimum degerler\n",
        "min_deger = df.min()\n",
        "max_deger = df.max()\n",
        "print(min_deger)\n",
        "print(max_deger)"
      ],
      "metadata": {
        "colab": {
          "base_uri": "https://localhost:8080/"
        },
        "id": "WRHZ-W4t1bUz",
        "outputId": "6048cbbd-043c-40d7-cf96-78f0d6915f88"
      },
      "execution_count": null,
      "outputs": [
        {
          "output_type": "stream",
          "name": "stdout",
          "text": [
            "class                       0\n",
            "cap-shape                   0\n",
            "cap-surface                 0\n",
            "cap-color                   0\n",
            "bruises                     0\n",
            "odor                        0\n",
            "gill-attachment             0\n",
            "gill-spacing                0\n",
            "gill-size                   0\n",
            "gill-color                  0\n",
            "stalk-shape                 0\n",
            "stalk-root                  0\n",
            "stalk-surface-above-ring    0\n",
            "stalk-surface-below-ring    0\n",
            "stalk-color-above-ring      0\n",
            "stalk-color-below-ring      0\n",
            "veil-type                   0\n",
            "veil-color                  0\n",
            "ring-number                 0\n",
            "ring-type                   0\n",
            "spore-print-color           0\n",
            "population                  0\n",
            "habitat                     0\n",
            "dtype: int64\n",
            "class                        1\n",
            "cap-shape                    5\n",
            "cap-surface                  3\n",
            "cap-color                    9\n",
            "bruises                      1\n",
            "odor                         8\n",
            "gill-attachment              1\n",
            "gill-spacing                 1\n",
            "gill-size                    1\n",
            "gill-color                  11\n",
            "stalk-shape                  1\n",
            "stalk-root                   4\n",
            "stalk-surface-above-ring     3\n",
            "stalk-surface-below-ring     3\n",
            "stalk-color-above-ring       8\n",
            "stalk-color-below-ring       8\n",
            "veil-type                    0\n",
            "veil-color                   3\n",
            "ring-number                  2\n",
            "ring-type                    4\n",
            "spore-print-color            8\n",
            "population                   5\n",
            "habitat                      6\n",
            "dtype: int64\n"
          ]
        }
      ]
    },
    {
      "cell_type": "code",
      "source": [
        "# Betimsel İstatistiklerin Tümü (Tek bir komutla)\n",
        "#Eğer tüm istatistikleri (ortalama, medyan, varyans, vs.) tek bir adımda görmek istersen, describe() fonksiyonunu kullanabiliriz\n",
        "betimsel_istatistikler = df.describe()\n",
        "print(betimsel_istatistikler)"
      ],
      "metadata": {
        "colab": {
          "base_uri": "https://localhost:8080/"
        },
        "id": "ErKMT9aU1pnH",
        "outputId": "00507171-7b9d-4d16-e4be-01f3e534f1cc"
      },
      "execution_count": null,
      "outputs": [
        {
          "output_type": "stream",
          "name": "stdout",
          "text": [
            "             class    cap-shape  cap-surface    cap-color      bruises  \\\n",
            "count  8124.000000  8124.000000  8124.000000  8124.000000  8124.000000   \n",
            "mean      0.482029     3.348104     1.827671     4.504677     0.415559   \n",
            "std       0.499708     1.604329     1.229873     2.545821     0.492848   \n",
            "min       0.000000     0.000000     0.000000     0.000000     0.000000   \n",
            "25%       0.000000     2.000000     0.000000     3.000000     0.000000   \n",
            "50%       0.000000     3.000000     2.000000     4.000000     0.000000   \n",
            "75%       1.000000     5.000000     3.000000     8.000000     1.000000   \n",
            "max       1.000000     5.000000     3.000000     9.000000     1.000000   \n",
            "\n",
            "              odor  gill-attachment  gill-spacing    gill-size   gill-color  \\\n",
            "count  8124.000000      8124.000000   8124.000000  8124.000000  8124.000000   \n",
            "mean      4.144756         0.974151      0.161497     0.309207     4.810684   \n",
            "std       2.103729         0.158695      0.368011     0.462195     3.540359   \n",
            "min       0.000000         0.000000      0.000000     0.000000     0.000000   \n",
            "25%       2.000000         1.000000      0.000000     0.000000     2.000000   \n",
            "50%       5.000000         1.000000      0.000000     0.000000     5.000000   \n",
            "75%       5.000000         1.000000      0.000000     1.000000     7.000000   \n",
            "max       8.000000         1.000000      1.000000     1.000000    11.000000   \n",
            "\n",
            "       ...  stalk-surface-below-ring  stalk-color-above-ring  \\\n",
            "count  ...               8124.000000             8124.000000   \n",
            "mean   ...                  1.603644                5.816347   \n",
            "std    ...                  0.675974                1.901747   \n",
            "min    ...                  0.000000                0.000000   \n",
            "25%    ...                  1.000000                6.000000   \n",
            "50%    ...                  2.000000                7.000000   \n",
            "75%    ...                  2.000000                7.000000   \n",
            "max    ...                  3.000000                8.000000   \n",
            "\n",
            "       stalk-color-below-ring  veil-type   veil-color  ring-number  \\\n",
            "count             8124.000000     8124.0  8124.000000  8124.000000   \n",
            "mean                 5.794682        0.0     1.965534     1.069424   \n",
            "std                  1.907291        0.0     0.242669     0.271064   \n",
            "min                  0.000000        0.0     0.000000     0.000000   \n",
            "25%                  6.000000        0.0     2.000000     1.000000   \n",
            "50%                  7.000000        0.0     2.000000     1.000000   \n",
            "75%                  7.000000        0.0     2.000000     1.000000   \n",
            "max                  8.000000        0.0     3.000000     2.000000   \n",
            "\n",
            "         ring-type  spore-print-color   population      habitat  \n",
            "count  8124.000000        8124.000000  8124.000000  8124.000000  \n",
            "mean      2.291974           3.596750     3.644018     1.508616  \n",
            "std       1.801672           2.382663     1.252082     1.719975  \n",
            "min       0.000000           0.000000     0.000000     0.000000  \n",
            "25%       0.000000           2.000000     3.000000     0.000000  \n",
            "50%       2.000000           3.000000     4.000000     1.000000  \n",
            "75%       4.000000           7.000000     4.000000     2.000000  \n",
            "max       4.000000           8.000000     5.000000     6.000000  \n",
            "\n",
            "[8 rows x 23 columns]\n"
          ]
        }
      ]
    },
    {
      "cell_type": "code",
      "source": [
        "#Kategorik bir özelliğin baskın kategorisini belirlemek için,\n",
        "# önce her bir kategorinin frekansını saymalı ve ardından en yüksek frekansa sahip olan kategoriyi bulmalısın.\n",
        "# Bunu yapmak için pandas kütüphanesinin value_counts() ve mode() fonksiyonlarını kullanabilirsin.\n",
        "# Kategorik sütunun frekansını say (örneğin 'class' sütunu)\n",
        "\n",
        "baskin_kategori_frekans = df['cap-surface'].value_counts()\n",
        "print(\"Kategorik Sütun Frekansları:\\n\", baskin_kategori_frekans)\n",
        "\n",
        "# En sık tekrar eden kategoriyi bul\n",
        "baskin_kategori = df['cap-surface'].mode()[0]\n",
        "print(f'Baskın kategori: {baskin_kategori}')"
      ],
      "metadata": {
        "colab": {
          "base_uri": "https://localhost:8080/"
        },
        "id": "bKJV7E8O11_p",
        "outputId": "49ada9c1-e141-4746-d10e-8cd43487bdb6"
      },
      "execution_count": null,
      "outputs": [
        {
          "output_type": "stream",
          "name": "stdout",
          "text": [
            "Kategorik Sütun Frekansları:\n",
            " cap-surface\n",
            "3    3244\n",
            "2    2556\n",
            "0    2320\n",
            "1       4\n",
            "Name: count, dtype: int64\n",
            "Baskın kategori: 3\n"
          ]
        }
      ]
    },
    {
      "cell_type": "code",
      "source": [
        "# Tüm verisetini baz alarak yapılan bu .  Her sütun için baskın değer ve frekans oranını hesaplayan fonksiyon\n",
        "def calculate_dominance(df):\n",
        "    dominance_table = pd.DataFrame(columns=['Column', 'Dominant Value', 'Frequency', 'Percentage'])\n",
        "\n",
        "    rows = []\n",
        "\n",
        "    for column in df.columns:\n",
        "        dominant_value = df[column].mode()[0]  # En sık görülen (baskın) değer\n",
        "        frequency = df[column].value_counts()[dominant_value]  # Bu değerin frekansı\n",
        "        percentage = (frequency / len(df)) * 100  # Bu değerin toplam içindeki oranı\n",
        "\n",
        "        # Her satırı bir dictionary olarak oluştur ve sonradan birleştir\n",
        "        rows.append({\n",
        "            'Column': column,\n",
        "            'Dominant Value': dominant_value,\n",
        "            'Frequency': frequency,\n",
        "            'Percentage': percentage\n",
        "        })\n",
        "\n",
        "    # Tüm satırları bir DataFrame'e dönüştür ve geri döndür\n",
        "    dominance_table = pd.concat([dominance_table, pd.DataFrame(rows)], ignore_index=True)\n",
        "\n",
        "    return dominance_table\n",
        "\n",
        "# Baskınlık tablosunu oluştur\n",
        "dominance_table = calculate_dominance(df)\n",
        "\n",
        "# Sonucu kontrol et\n",
        "print(dominance_table)"
      ],
      "metadata": {
        "colab": {
          "base_uri": "https://localhost:8080/"
        },
        "id": "M-dXfMnBNCCd",
        "outputId": "4a611a5c-0edf-40d6-877c-e2874099df4a"
      },
      "execution_count": 69,
      "outputs": [
        {
          "output_type": "stream",
          "name": "stdout",
          "text": [
            "                      Column  Dominant Value Frequency  Percentage\n",
            "0                      class             0.0      4208   51.797144\n",
            "1                  cap-shape             5.0      3656   45.002462\n",
            "2                cap-surface             3.0      3244   39.931068\n",
            "3                  cap-color             4.0      2284   28.114229\n",
            "4                    bruises             0.0      4748   58.444116\n",
            "5                       odor             5.0      3528   43.426883\n",
            "6            gill-attachment             1.0      7914   97.415066\n",
            "7               gill-spacing             0.0      6812   83.850320\n",
            "8                  gill-size             0.0      5612   69.079271\n",
            "9                 gill-color             0.0      1728   21.270310\n",
            "10               stalk-shape             1.0      4608   56.720827\n",
            "11                stalk-root             1.0      3776   46.479567\n",
            "12  stalk-surface-above-ring             2.0      5176   63.712457\n",
            "13  stalk-surface-below-ring             2.0      4936   60.758247\n",
            "14    stalk-color-above-ring             7.0      4464   54.948301\n",
            "15    stalk-color-below-ring             7.0      4384   53.963565\n",
            "16                 veil-type             0.0      8124  100.000000\n",
            "17                veil-color             2.0      7924   97.538159\n",
            "18               ring-number             1.0      7488   92.171344\n",
            "19                 ring-type             4.0      3968   48.842935\n",
            "20         spore-print-color             7.0      2388   29.394387\n",
            "21                population             4.0      4040   49.729197\n",
            "22                   habitat             0.0      3148   38.749385\n",
            "23                   anomaly             1.0      7717   94.990153\n"
          ]
        },
        {
          "output_type": "stream",
          "name": "stderr",
          "text": [
            "<ipython-input-69-646d02021fa4>:21: FutureWarning: The behavior of DataFrame concatenation with empty or all-NA entries is deprecated. In a future version, this will no longer exclude empty or all-NA columns when determining the result dtypes. To retain the old behavior, exclude the relevant entries before the concat operation.\n",
            "  dominance_table = pd.concat([dominance_table, pd.DataFrame(rows)], ignore_index=True)\n"
          ]
        }
      ]
    },
    {
      "cell_type": "code",
      "source": [
        "#. Ürün kategorilerinin dağılımı\n",
        "sns.countplot(x='cap-surface', data=df)\n",
        "plt.xticks(rotation=-90)\n",
        "plt.title('Ürün Kategorilerinin Dağılımı')\n",
        "plt.show()"
      ],
      "metadata": {
        "colab": {
          "base_uri": "https://localhost:8080/",
          "height": 469
        },
        "id": "E1ColJllGmek",
        "outputId": "11dd3fc2-3827-4b8e-bf25-64cbe099b45d"
      },
      "execution_count": 64,
      "outputs": [
        {
          "output_type": "display_data",
          "data": {
            "text/plain": [
              "<Figure size 640x480 with 1 Axes>"
            ],
            "image/png": "[encoded data removed]"
          },
          "metadata": {}
        }
      ]
    },
    {
      "cell_type": "code",
      "source": [
        "#SORU3\n",
        "#Özelliklerin dağılımını incelemek için çeşitli grafik türleri kullanılailir.\n",
        "#Hangi grafik türünün kullanılacağı, verinin türüne (sayısal veya kategorik) ve analiz etmek istediğin özelliklere bağlıdır.\n",
        "#Histogram\n",
        "#Kullanım Durumu: Sayısal verilerin dağılımını görmek için idealdir.\n",
        "#Açıklama: Veri aralığını belirli aralıklara (bin) bölerek her bir aralıktaki veri sayısını gösterir.\n",
        "plt.hist(df['cap-surface'], bins=10)  # Sayısal sütun\n",
        "plt.title('Histogram')\n",
        "plt.xlabel('Değerler')\n",
        "plt.ylabel('Frekans')\n",
        "plt.show()\n"
      ],
      "metadata": {
        "colab": {
          "base_uri": "https://localhost:8080/",
          "height": 472
        },
        "id": "x19JO2CW43Si",
        "outputId": "26616e6f-017b-4c35-94e5-8539b31105ed"
      },
      "execution_count": null,
      "outputs": [
        {
          "output_type": "display_data",
          "data": {
            "text/plain": [
              "<Figure size 640x480 with 1 Axes>"
            ],
            "image/png": "[encoded data removed]"
          },
          "metadata": {}
        }
      ]
    },
    {
      "cell_type": "code",
      "source": [
        "#. Çubuk Grafiği\n",
        "#Kullanım Durumu: Kategorik verilerin frekansını karşılaştırmak için uygundur.\n",
        "#Açıklama: Her bir kategori için bir çubuk çizilir ve çubuğun yüksekliği o kategorinin frekansını gösterir.\n",
        "#Örnek: Bir kategorik özelliğin her bir kategorisinin sayısını incelemek.\n",
        "\n",
        "df['cap-surface'].value_counts().plot(kind='bar')\n",
        "plt.title('Çubuk Grafiği')\n",
        "plt.xlabel('Kategoriler')\n",
        "plt.ylabel('Frekans')\n",
        "plt.show()\n",
        "\n"
      ],
      "metadata": {
        "colab": {
          "base_uri": "https://localhost:8080/",
          "height": 467
        },
        "id": "8LamHAwC5uip",
        "outputId": "b88a2a3d-d0a9-4550-90cb-76b56909e678"
      },
      "execution_count": null,
      "outputs": [
        {
          "output_type": "display_data",
          "data": {
            "text/plain": [
              "<Figure size 640x480 with 1 Axes>"
            ],
            "image/png": "[encoded data removed]"
          },
          "metadata": {}
        }
      ]
    },
    {
      "cell_type": "code",
      "source": [
        "# Pasta Grafiği\n",
        "#Kullanım Durumu: Kategorik verilerin oranlarını görmek için idealdir.\n",
        "#açıklama: Her bir kategori, toplamın yüzde oranını gösteren bir dilim olarak temsil edilir.\n",
        "#Örnek: Belirli bir kategorik özelliğin yüzdelik dağılımını incelemek.\n",
        "\n",
        "df['cap-surface'].value_counts().plot(kind='pie', autopct='%1.1f%%')\n",
        "plt.title('Pasta Grafiği')\n",
        "plt.ylabel('')  # Y-etiketini gizle\n",
        "plt.show()\n",
        "\n"
      ],
      "metadata": {
        "colab": {
          "base_uri": "https://localhost:8080/",
          "height": 428
        },
        "id": "wMEDzCvf6Fms",
        "outputId": "b46b922d-cc82-4fe8-9db7-8a4ae6f68231"
      },
      "execution_count": null,
      "outputs": [
        {
          "output_type": "display_data",
          "data": {
            "text/plain": [
              "<Figure size 640x480 with 1 Axes>"
            ],
            "image/png": "[encoded data removed]"
          },
          "metadata": {}
        }
      ]
    },
    {
      "cell_type": "code",
      "source": [
        "#Kutu Grafiği (Box Plot)\n",
        "#Kullanım Durumu: Sayısal verilerin dağılımını ve aykırı değerleri incelemek için uygundur.\n",
        "#Açıklama: Verinin çeyreklerini gösterir ve aykırı değerleri tespit etmeye yardımcı olur.\n",
        "plt.boxplot(df['cap-surface'])\n",
        "plt.title('Kutu Grafiği')\n",
        "plt.ylabel('Değerler')\n",
        "plt.show()\n"
      ],
      "metadata": {
        "colab": {
          "base_uri": "https://localhost:8080/",
          "height": 452
        },
        "id": "88FjWP0D6Uwr",
        "outputId": "857ce509-8ca8-49f8-ad61-89f076e292a1"
      },
      "execution_count": null,
      "outputs": [
        {
          "output_type": "display_data",
          "data": {
            "text/plain": [
              "<Figure size 640x480 with 1 Axes>"
            ],
            "image/png": "[encoded data removed]"
          },
          "metadata": {}
        }
      ]
    },
    {
      "cell_type": "code",
      "source": [
        "#SORU4 veri setinde aykırı (outlier) değer olup olmadıgını nasıl anlarsınız? Sayısal bir veri için aaykırı değerleri  hangi istatistiksel yöntemlerle belirleyebilirsiniz?(Örneğin, boxplot,Zscore kullanarak)\n",
        "#Aykırı değerleri (outliers) tespit etmek, veri analizi ve istatistikte önemli bir adımdır. Aykırı değerler, veri setindeki diğer gözlemlerden önemli ölçüde farklı olan verilerdir. Sayısal veriler için aykırı değerleri belirlemek için kullanabileceğiniz bazı yaygın yöntemler şunlardır:\n",
        "#Boxplot Yöntemi\n",
        "#Boxplot (kutu grafiği), veri dağılımını görselleştirmek için yaygın bir yöntemdir. Aykırı değerleri tespit etmek için kullanabileceğiniz bir yöntemdir:\n",
        "\n",
        "#Adımlar:\n",
        "#Verinin minimum, 1. çeyrek (Q1), median (Q2), 3. çeyrek (Q3) ve maksimum değerlerini hesaplayın.\n",
        "#IQR (Interquartile Range) hesaplayın:\n",
        "#Aykırı değerler için sınırları belirleyin:\n",
        "#Alt sınır:\n",
        "#Üst sınır:\n",
        "#Bu sınırların dışındaki değerler aykırı değerler olarak kabul edilir.\n",
        "sütun = 'cap-shape'\n",
        "# Boxplot ile aykırı değerleri tespit et\n",
        "plt.figure(figsize=(10,6))\n",
        "sns.boxplot(x=df[sütun])\n",
        "plt.title(f'Boxplot of {sütun}')\n",
        "plt.show()\n",
        "# Z-Score ile aykırı değerleri tespit et\n",
        "z_scores = np.abs(stats.zscore(df[sütun]))\n",
        "aykiri_degerler = np.where(z_scores > 3)\n",
        "\n",
        "print(f\"Aykırı değerlerin indeksleri: {aykiri_degerler}\")\n",
        "print(f\"Aykırı değerler: {df.iloc[aykiri_degerler]}\")\n",
        "\n",
        "\n"
      ],
      "metadata": {
        "id": "0gHU-v-c6jRt",
        "colab": {
          "base_uri": "https://localhost:8080/",
          "height": 688
        },
        "outputId": "0a8730c4-55ab-4438-b9fb-d5bf253fb94c"
      },
      "execution_count": 56,
      "outputs": [
        {
          "output_type": "display_data",
          "data": {
            "text/plain": [
              "<Figure size 1000x600 with 1 Axes>"
            ],
            "image/png": "[encoded data removed]"
          },
          "metadata": {}
        },
        {
          "output_type": "stream",
          "name": "stdout",
          "text": [
            "Aykırı değerlerin indeksleri: (array([], dtype=int64),)\n",
            "Aykırı değerler: Empty DataFrame\n",
            "Columns: [class, cap-shape, cap-surface, cap-color, bruises, odor, gill-attachment, gill-spacing, gill-size, gill-color, stalk-shape, stalk-root, stalk-surface-above-ring, stalk-surface-below-ring, stalk-color-above-ring, stalk-color-below-ring, veil-type, veil-color, ring-number, ring-type, spore-print-color, population, habitat]\n",
            "Index: []\n",
            "\n",
            "[0 rows x 23 columns]\n"
          ]
        }
      ]
    },
    {
      "cell_type": "code",
      "source": [
        "#SORU5\n",
        "#Aykırı (outlier) değerler, analiz sonuçlarını önemli ölçüde etkileyebilir, çünkü bu değerler veri setindeki genel eğilimlerden sapar. İşte aykırı değerlerin analiz sonuçlarına olan bazı olası etkileri:\n",
        "#Aykırı değerler, veri setinin genel yayılımını artırarak standart sapmayı genişletebilir. Bu da verinin daha değişken ve dağınık görünmesine neden olabilir.\n",
        "#Regresyon analizinde, aykırı değerler modelin eğimini veya kesişim noktasını yanlış tahmin etmesine neden olabilir. Sonuç olarak, tahmin edilen sonuçlar gerçek verilere göre oldukça farklı olabilir.\n",
        "#Aykırı değerler, K-Means veya Hierarchical Clustering gibi kümeleme algoritmalarının yanlış kümeler oluşturmasına neden olabilir. Kümeleme analizinde, aykırı değerler bazen kendi başlarına ayrı bir küme oluşturabilir ve bu da yanlış sonuçlar doğurabilir.\n",
        "#Veri dağılımlarının normal olup olmadığını inceleyen analizlerde, aykırı değerler verinin normal dağılımdan uzaklaşmasına neden olabilir.\n",
        "#Veriyi temizlemek amacıyla, aykırı değerler analizden çıkarılabilir. Bu, özellikle aykırı değerlerin hatalı veya gürültü (noise) verisi olduğundan eminseniz etkili olabilir.\n",
        "# Aykırı değerlerin kaldırılması\n",
        "# Aykırı değerlerin sınırlarla değiştirilmesi (Winsorizing)\n",
        "# Aykırı değerleri kontrol edeceğiniz sütunu belirleyin\n",
        "sütun = 'cap-shape'  # Örneğin 'cap-shape' sütunu\n",
        "\n",
        "# Q1 (1. çeyrek) ve Q3 (3. çeyrek) değerlerini hesapla\n",
        "Q1 = df[sütun].quantile(0.25)\n",
        "Q3 = df[sütun].quantile(0.75)\n",
        "\n",
        "# IQR hesapla\n",
        "IQR = Q3 - Q1\n",
        "\n",
        "# Alt ve üst sınırları belirle (1.5 * IQR kuralı)\n",
        "alt_sinir = Q1 - 1.5 * IQR\n",
        "ust_sinir = Q3 + 1.5 * IQR\n",
        "\n",
        "# Aykırı değerlerin sınırlarla değiştirilmesi (Winsorizing)\n",
        "df[sütun] = np.where(df[sütun] < alt_sinir, alt_sinir, df[sütun])\n",
        "df[sütun] = np.where(df[sütun] > ust_sinir, ust_sinir, df[sütun])\n",
        "\n",
        "print(df.head())\n",
        "z_scores = stats.zscore(df[sütun])\n",
        "# Aykırı değerleri bul (Z-Score > 3 olanlar)\n",
        "aykiri_indexleri = np.where(np.abs(z_scores) > 3)\n",
        "# Aykırı değerleri kontrol edin\n",
        "print(f\"Aykırı değerlerin indeksleri: {aykiri_indexleri}\")\n",
        "print(f\"Aykırı değerler: {df.iloc[aykiri_indexleri]}\")"
      ],
      "metadata": {
        "colab": {
          "base_uri": "https://localhost:8080/"
        },
        "id": "gJt1vW-G-Tgs",
        "outputId": "2e16f13c-a3ed-47a3-e3e2-3267b64164d5"
      },
      "execution_count": 60,
      "outputs": [
        {
          "output_type": "stream",
          "name": "stdout",
          "text": [
            "   class  cap-shape  cap-surface  cap-color  bruises  odor  gill-attachment  \\\n",
            "0      1        5.0            2          4        1     6                1   \n",
            "1      0        5.0            2          9        1     0                1   \n",
            "2      0        0.0            2          8        1     3                1   \n",
            "3      1        5.0            3          8        1     6                1   \n",
            "4      0        5.0            2          3        0     5                1   \n",
            "\n",
            "   gill-spacing  gill-size  gill-color  ...  stalk-surface-below-ring  \\\n",
            "0             0          1           4  ...                         2   \n",
            "1             0          0           4  ...                         2   \n",
            "2             0          0           5  ...                         2   \n",
            "3             0          1           5  ...                         2   \n",
            "4             1          0           4  ...                         2   \n",
            "\n",
            "   stalk-color-above-ring  stalk-color-below-ring  veil-type  veil-color  \\\n",
            "0                       7                       7          0           2   \n",
            "1                       7                       7          0           2   \n",
            "2                       7                       7          0           2   \n",
            "3                       7                       7          0           2   \n",
            "4                       7                       7          0           2   \n",
            "\n",
            "   ring-number  ring-type  spore-print-color  population  habitat  \n",
            "0            1          4                  2           3        5  \n",
            "1            1          4                  3           2        1  \n",
            "2            1          4                  3           2        3  \n",
            "3            1          4                  2           3        5  \n",
            "4            1          0                  3           0        1  \n",
            "\n",
            "[5 rows x 23 columns]\n",
            "Aykırı değerlerin indeksleri: (array([], dtype=int64),)\n",
            "Aykırı değerler: Empty DataFrame\n",
            "Columns: [class, cap-shape, cap-surface, cap-color, bruises, odor, gill-attachment, gill-spacing, gill-size, gill-color, stalk-shape, stalk-root, stalk-surface-above-ring, stalk-surface-below-ring, stalk-color-above-ring, stalk-color-below-ring, veil-type, veil-color, ring-number, ring-type, spore-print-color, population, habitat]\n",
            "Index: []\n",
            "\n",
            "[0 rows x 23 columns]\n"
          ]
        }
      ]
    },
    {
      "cell_type": "code",
      "source": [
        "#Boxplot grafikleri, verideki aykırı değerleri görselleştirmek için ideal bir yöntemdir. Verinin dağılımını gösterirken aykırı/anomali değerleri açıkça işaretler.\n",
        "def plot_boxplot(df, column):\n",
        "    plt.figure(figsize=(10, 6))\n",
        "    sns.boxplot(df[column])\n",
        "    plt.title(f\"{column} sütunundaki Anomali Tespiti (Boxplot)\")\n",
        "    plt.show()\n",
        "\n",
        "# Örneğin 'cap-shape' sütunu için boxplot çizelim\n",
        "plot_boxplot(df, 'cap-shape')"
      ],
      "metadata": {
        "colab": {
          "base_uri": "https://localhost:8080/",
          "height": 526
        },
        "id": "_2pUwSMDBQIL",
        "outputId": "5761b8f7-fafa-413c-f491-f882c571a4a2"
      },
      "execution_count": 62,
      "outputs": [
        {
          "output_type": "display_data",
          "data": {
            "text/plain": [
              "<Figure size 1000x600 with 1 Axes>"
            ],
            "image/png": "[encoded data removed]"
          },
          "metadata": {}
        }
      ]
    },
    {
      "cell_type": "code",
      "source": [
        "# csv ye gore anomalı testi Isolation Forest ile anomali tespiti\n",
        "model = IsolationForest(contamination=0.05, random_state=42)  # %5 anomali olduğunu varsayıyoruz\n",
        "df['anomaly'] = model.fit_predict(df)\n",
        "\n",
        "# Anomalileri filtrele (-1 anomali, 1 normal veri)\n",
        "anomalies = df[df['anomaly'] == -1]\n",
        "\n",
        "# Anomali sonuçlarını görüntüle\n",
        "print(f\"Anomali sayısı: {len(anomalies)}\")\n",
        "print(anomalies.head())"
      ],
      "metadata": {
        "colab": {
          "base_uri": "https://localhost:8080/"
        },
        "id": "_Jc513lCLMX5",
        "outputId": "3a3691e1-94e1-41f5-caf3-020c2cc97396"
      },
      "execution_count": 66,
      "outputs": [
        {
          "output_type": "stream",
          "name": "stdout",
          "text": [
            "Anomali sayısı: 407\n",
            "      class  cap-shape  cap-surface  cap-color  bruises  odor  \\\n",
            "3984      0        5.0            3          0        1     5   \n",
            "4106      1        0.0            2          0        1     5   \n",
            "4165      0        2.0            0          1        0     5   \n",
            "4194      1        2.0            2          0        1     2   \n",
            "4276      0        3.0            3          4        0     5   \n",
            "\n",
            "      gill-attachment  gill-spacing  gill-size  gill-color  ...  \\\n",
            "3984                1             0          0           1  ...   \n",
            "4106                1             0          0           2  ...   \n",
            "4165                1             1          1          10  ...   \n",
            "4194                1             0          0          10  ...   \n",
            "4276                1             1          1          10  ...   \n",
            "\n",
            "      stalk-color-above-ring  stalk-color-below-ring  veil-type  veil-color  \\\n",
            "3984                       2                       7          0           2   \n",
            "4106                       7                       7          0           2   \n",
            "4165                       7                       4          0           2   \n",
            "4194                       7                       7          0           2   \n",
            "4276                       7                       4          0           2   \n",
            "\n",
            "      ring-number  ring-type  spore-print-color  population  habitat  anomaly  \n",
            "3984            2          0                  7           1        6       -1  \n",
            "4106            2          4                  5           4        3       -1  \n",
            "4165            1          0                  7           4        2       -1  \n",
            "4194            1          4                  1           3        5       -1  \n",
            "4276            1          0                  7           4        2       -1  \n",
            "\n",
            "[5 rows x 24 columns]\n"
          ]
        }
      ]
    }
  ]
}